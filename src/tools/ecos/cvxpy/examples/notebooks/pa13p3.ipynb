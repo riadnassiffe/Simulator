{
 "metadata": {
  "name": ""
 },
 "nbformat": 3,
 "nbformat_minor": 0,
 "worksheets": [
  {
   "cells": [
    {
     "cell_type": "markdown",
     "metadata": {},
     "source": [
      "### CVXBOOK extra exercise 13.3\n",
      "*Simple portfolio optimization*. Solution by Chris Dembia."
     ]
    },
    {
     "cell_type": "code",
     "collapsed": false,
     "input": [
      "from cvxpy import *\n",
      "from simple_portfolio_data import *\n",
      "one = np.matrix(np.ones((n, 1)))"
     ],
     "language": "python",
     "metadata": {},
     "outputs": [],
     "prompt_number": 1
    },
    {
     "cell_type": "heading",
     "level": 3,
     "metadata": {},
     "source": [
      "Part a"
     ]
    },
    {
     "cell_type": "code",
     "collapsed": false,
     "input": [
      "r_min = pbar.T * x_unif\n",
      "risk_unif = quad_form(x_unif, S).value\n",
      "print('Minimum return: {}'.format(r_min))"
     ],
     "language": "python",
     "metadata": {},
     "outputs": [
      {
       "output_type": "stream",
       "stream": "stdout",
       "text": [
        "Minimum return: [[ 0.08399391]]\n"
       ]
      }
     ],
     "prompt_number": 2
    },
    {
     "cell_type": "code",
     "collapsed": false,
     "input": [
      "x = Variable(n)\n",
      "objective_a = Minimize( quad_form(x, S) )"
     ],
     "language": "python",
     "metadata": {},
     "outputs": [],
     "prompt_number": 3
    },
    {
     "cell_type": "heading",
     "level": 4,
     "metadata": {},
     "source": [
      "No (additional) constraints"
     ]
    },
    {
     "cell_type": "code",
     "collapsed": false,
     "input": [
      "constraints_i = [pbar.T * x == r_min, sum(x) == 1]\n",
      "problem_ai = Problem(objective_a, constraints_i)\n",
      "risk_ai = problem_ai.solve()"
     ],
     "language": "python",
     "metadata": {},
     "outputs": [],
     "prompt_number": 4
    },
    {
     "cell_type": "heading",
     "level": 4,
     "metadata": {},
     "source": [
      "Long-only"
     ]
    },
    {
     "cell_type": "code",
     "collapsed": false,
     "input": [
      "constraints_ii = [pbar.T * x == r_min, sum(x) == 1, x >= 0]\n",
      "problem_aii = Problem(objective_a, constraints_ii)\n",
      "risk_aii = problem_aii.solve()"
     ],
     "language": "python",
     "metadata": {},
     "outputs": [],
     "prompt_number": 5
    },
    {
     "cell_type": "heading",
     "level": 4,
     "metadata": {},
     "source": [
      "Total short"
     ]
    },
    {
     "cell_type": "code",
     "collapsed": false,
     "input": [
      "constraints_iii = [pbar.T * x == r_min, sum(x) == 1,\n",
      "                   one.T * max(-x, 0) <= 0.5]\n",
      "problem_aiii = Problem(objective_a, constraints_iii)\n",
      "risk_aiii = problem_aiii.solve()"
     ],
     "language": "python",
     "metadata": {},
     "outputs": [],
     "prompt_number": 6
    },
    {
     "cell_type": "code",
     "collapsed": false,
     "input": [
      "print('Uniform portfolio risk: {}'.format(risk_unif))\n",
      "print('No additional constraints risk: {}'.format(risk_ai))\n",
      "print('Long-only risk: {}'.format(risk_aii))\n",
      "print('Total short: {}'.format(risk_aiii))"
     ],
     "language": "python",
     "metadata": {},
     "outputs": [
      {
       "output_type": "stream",
       "stream": "stdout",
       "text": [
        "Uniform portfolio risk: 0.00500978688334\n",
        "No additional constraints risk: 6.56715701762e-05\n",
        "Long-only risk: 0.00101937807592\n",
        "Total short: 6.56717792366e-05\n"
       ]
      }
     ],
     "prompt_number": 7
    },
    {
     "cell_type": "heading",
     "level": 3,
     "metadata": {},
     "source": [
      "Part b"
     ]
    },
    {
     "cell_type": "code",
     "collapsed": false,
     "input": [
      "N = 20\n",
      "mus = np.logspace(0, 5, N)\n",
      "mean_longonly = np.zeros(N)\n",
      "std_longonly = np.zeros(N)\n",
      "mean_totalshort = np.zeros(N)\n",
      "std_totalshort = np.zeros(N)\n",
      "constraints_longonly = [sum(x) == 1, x >= 0]\n",
      "constraints_totalshort = [sum(x) == 1, one.T * max(-x, 0) <= 0.5]\n",
      "for i, mu in enumerate(mus):\n",
      "    print('mu = {}'.format(mu))\n",
      "    \n",
      "    ret = pbar.T * x\n",
      "    risk = quad_form(x, S)\n",
      "    \n",
      "    objective = Minimize( -ret + mu * risk )\n",
      "    \n",
      "    # Long-only.\n",
      "    Problem(objective, constraints_longonly).solve()\n",
      "    mean_longonly[i] = ret.value\n",
      "    std_longonly[i] = np.sqrt(risk.value)\n",
      "    \n",
      "    # Total short.\n",
      "    Problem(objective, constraints_totalshort).solve()\n",
      "    mean_totalshort[i] = ret.value\n",
      "    std_totalshort[i] = np.sqrt(risk.value)    "
     ],
     "language": "python",
     "metadata": {},
     "outputs": [
      {
       "output_type": "stream",
       "stream": "stdout",
       "text": [
        "mu = 1.0\n",
        "mu = 1.83298071083\n",
        "mu = 3.35981828628\n",
        "mu = 6.15848211066"
       ]
      },
      {
       "output_type": "stream",
       "stream": "stdout",
       "text": [
        "\n",
        "mu = 11.2883789168\n",
        "mu = 20.6913808111\n",
        "mu = 37.9269019073\n",
        "mu = 69.5192796178"
       ]
      },
      {
       "output_type": "stream",
       "stream": "stdout",
       "text": [
        "\n",
        "mu = 127.42749857\n",
        "mu = 233.572146909\n",
        "mu = 428.133239872\n",
        "mu = 784.759970351"
       ]
      },
      {
       "output_type": "stream",
       "stream": "stdout",
       "text": [
        "\n",
        "mu = 1438.44988829\n",
        "mu = 2636.65089873\n",
        "mu = 4832.93023857\n",
        "mu = 8858.6679041\n",
        "mu = 16237.7673919"
       ]
      },
      {
       "output_type": "stream",
       "stream": "stdout",
       "text": [
        "\n",
        "mu = 29763.5144163\n",
        "mu = 54555.9478117\n",
        "mu = 100000.0\n"
       ]
      }
     ],
     "prompt_number": 8
    },
    {
     "cell_type": "code",
     "collapsed": false,
     "input": [
      "pl.plot(std_longonly, mean_longonly, label='long-only')\n",
      "pl.plot(std_totalshort, mean_totalshort, label='total short')\n",
      "pl.xlabel('standard deviation of return')\n",
      "pl.ylabel('mean return')\n",
      "pl.legend(loc='lower right', frameon=False);"
     ],
     "language": "python",
     "metadata": {},
     "outputs": [
      {
       "metadata": {},
       "output_type": "display_data",
       "png": "[encoded data removed]",
       "text": [
        "<matplotlib.figure.Figure at 0x4947c90>"
       ]
      }
     ],
     "prompt_number": 9
    }
   ],
   "metadata": {}
  }
 ]
}