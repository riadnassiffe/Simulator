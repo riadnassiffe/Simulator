{
 "metadata": {
  "name": ""
 },
 "nbformat": 3,
 "nbformat_minor": 0,
 "worksheets": [
  {
   "cells": [
    {
     "cell_type": "markdown",
     "metadata": {},
     "source": [
      "### CVXBOOK extra exercise 3.18\n",
      "*Heuristic suboptimal solution for Boolean LP*. Solution by Chris Dembia."
     ]
    },
    {
     "cell_type": "code",
     "collapsed": false,
     "input": [
      "import pylab as pl\n",
      "import numpy as np\n",
      "from cvxpy import *"
     ],
     "language": "python",
     "metadata": {},
     "outputs": [],
     "prompt_number": 85,
     "trusted": false
    },
    {
     "cell_type": "heading",
     "level": 4,
     "metadata": {},
     "source": [
      "Create data"
     ]
    },
    {
     "cell_type": "code",
     "collapsed": false,
     "input": [
      "n = 100\n",
      "m = 300\n",
      "np.random.seed(0)\n",
      "A = np.matrix(np.random.rand(m, n))\n",
      "b = A * np.ones((n, 1)) / 2.0\n",
      "c = -np.random.rand(n, 1)"
     ],
     "language": "python",
     "metadata": {},
     "outputs": [],
     "prompt_number": 86,
     "trusted": false
    },
    {
     "cell_type": "heading",
     "level": 4,
     "metadata": {},
     "source": [
      "Solve the relaxed problem"
     ]
    },
    {
     "cell_type": "code",
     "collapsed": false,
     "input": [
      "x = Variable(n)\n",
      "objective = Minimize( c.T * x)\n",
      "constraints = [A * x <= b, x >= 0, x <= 1]\n",
      "p = Problem(objective, constraints)\n",
      "L = p.solve()"
     ],
     "language": "python",
     "metadata": {},
     "outputs": [],
     "prompt_number": 87,
     "trusted": false
    },
    {
     "cell_type": "code",
     "collapsed": false,
     "input": [
      "print 'Lower bound: {}'.format(L)"
     ],
     "language": "python",
     "metadata": {},
     "outputs": [
      {
       "output_type": "stream",
       "stream": "stdout",
       "text": [
        "Lower bound: -34.4172236278\n"
       ]
      }
     ],
     "prompt_number": 88,
     "trusted": false
    },
    {
     "cell_type": "code",
     "collapsed": false,
     "input": [
      "x_rlx = np.matrix(p.variables()[0].value)"
     ],
     "language": "python",
     "metadata": {},
     "outputs": [],
     "prompt_number": 89,
     "trusted": false
    },
    {
     "cell_type": "heading",
     "level": 4,
     "metadata": {},
     "source": [
      "Threshold the relaxed solution"
     ]
    },
    {
     "cell_type": "code",
     "collapsed": false,
     "input": [
      "N_t = 100\n",
      "tvalues = np.linspace(0, 1, 100)\n",
      "J = np.empty(N_t)\n",
      "max_constr_violation = np.empty(N_t)\n",
      "feasible = np.nan * np.zeros(N_t)\n",
      "\n",
      "for i, t in enumerate(tvalues):\n",
      "    x_hat = x_rlx > t\n",
      "    J[i] = c.T * x_hat\n",
      "    max_constr_violation[i] = np.max(A * x_hat - b)\n",
      "    if max_constr_violation[i] <= 0:\n",
      "        feasible[i] = 0"
     ],
     "language": "python",
     "metadata": {},
     "outputs": [],
     "prompt_number": 90,
     "trusted": false
    },
    {
     "cell_type": "code",
     "collapsed": false,
     "input": [
      "pl.plot(tvalues, J, label='objective')\n",
      "pl.plot(tvalues, max_constr_violation,\n",
      "        label='max constraint violation')\n",
      "pl.plot(tvalues, feasible -15, lw=2, c='k',\n",
      "        label='feasible range')\n",
      "pl.xlabel('t')\n",
      "pl.legend(frameon=False)"
     ],
     "language": "python",
     "metadata": {},
     "outputs": [
      {
       "metadata": {},
       "output_type": "pyout",
       "prompt_number": 94,
       "text": [
        "<matplotlib.legend.Legend at 0x5083ed0>"
       ]
      },
      {
       "metadata": {},
       "output_type": "display_data",
       "png": "[encoded data removed]",
       "text": [
        "<matplotlib.figure.Figure at 0x4bd8710>"
       ]
      }
     ],
     "prompt_number": 94,
     "trusted": false
    },
    {
     "cell_type": "code",
     "collapsed": false,
     "input": [
      "U = np.min(J[np.where(max_constr_violation <= 0)])\n",
      "print('Upper bound: {}'.format(U))\n",
      "print('Gap: {}'.format(U - L))"
     ],
     "language": "python",
     "metadata": {},
     "outputs": [
      {
       "output_type": "stream",
       "stream": "stdout",
       "text": [
        "Upper bound: -33.5772513453\n",
        "Gap: 0.839972282506\n"
       ]
      }
     ],
     "prompt_number": 92,
     "trusted": false
    }
   ],
   "metadata": {}
  }
 ]
}